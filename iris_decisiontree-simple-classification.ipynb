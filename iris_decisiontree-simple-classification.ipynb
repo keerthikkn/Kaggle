{
 "cells": [
  {
   "cell_type": "code",
   "execution_count": 1,
   "id": "8c395295",
   "metadata": {
    "_cell_guid": "b1076dfc-b9ad-4769-8c92-a6c4dae69d19",
    "_uuid": "8f2839f25d086af736a60e9eeb907d3b93b6e0e5",
    "execution": {
     "iopub.execute_input": "2023-08-03T17:04:51.331492Z",
     "iopub.status.busy": "2023-08-03T17:04:51.330931Z",
     "iopub.status.idle": "2023-08-03T17:04:52.648337Z",
     "shell.execute_reply": "2023-08-03T17:04:52.646895Z"
    },
    "papermill": {
     "duration": 1.328162,
     "end_time": "2023-08-03T17:04:52.651399",
     "exception": false,
     "start_time": "2023-08-03T17:04:51.323237",
     "status": "completed"
    },
    "tags": []
   },
   "outputs": [
    {
     "name": "stderr",
     "output_type": "stream",
     "text": [
      "/opt/conda/lib/python3.10/site-packages/scipy/__init__.py:146: UserWarning: A NumPy version >=1.16.5 and <1.23.0 is required for this version of SciPy (detected version 1.23.5\n",
      "  warnings.warn(f\"A NumPy version >={np_minversion} and <{np_maxversion}\"\n"
     ]
    },
    {
     "name": "stdout",
     "output_type": "stream",
     "text": [
      "/kaggle/input/iris/Iris.csv\n",
      "/kaggle/input/iris/database.sqlite\n"
     ]
    }
   ],
   "source": [
    "# This Python 3 environment comes with many helpful analytics libraries installed\n",
    "# It is defined by the kaggle/python Docker image: https://github.com/kaggle/docker-python\n",
    "# For example, here's several helpful packages to load\n",
    "\n",
    "import numpy as np # linear algebra\n",
    "import pandas as pd # data processing, CSV file I/O (e.g. pd.read_csv)\n",
    "import matplotlib.pyplot as plt #visualization purpose\n",
    "import seaborn as sns\n",
    "import warnings\n",
    "warnings.filter_warnings = True\n",
    "# Input data files are available in the read-only \"../input/\" directory\n",
    "# For example, running this (by clicking run or pressing Shift+Enter) will list all files under the input directory\n",
    "\n",
    "import os\n",
    "for dirname, _, filenames in os.walk('/kaggle/input'):\n",
    "    for filename in filenames:\n",
    "        print(os.path.join(dirname, filename))\n",
    "\n",
    "# You can write up to 20GB to the current directory (/kaggle/working/) that gets preserved as output when you create a version using \"Save & Run All\" \n",
    "# You can also write temporary files to /kaggle/temp/, but they won't be saved outside of the current session"
   ]
  },
  {
   "cell_type": "code",
   "execution_count": 2,
   "id": "dfe94713",
   "metadata": {
    "execution": {
     "iopub.execute_input": "2023-08-03T17:04:52.664666Z",
     "iopub.status.busy": "2023-08-03T17:04:52.664257Z",
     "iopub.status.idle": "2023-08-03T17:04:52.685484Z",
     "shell.execute_reply": "2023-08-03T17:04:52.684400Z"
    },
    "papermill": {
     "duration": 0.031341,
     "end_time": "2023-08-03T17:04:52.688624",
     "exception": false,
     "start_time": "2023-08-03T17:04:52.657283",
     "status": "completed"
    },
    "tags": []
   },
   "outputs": [],
   "source": [
    "#reading the dataset\n",
    "df = pd.read_csv('/kaggle/input/iris/Iris.csv',index_col=False)"
   ]
  },
  {
   "cell_type": "markdown",
   "id": "f12943e5",
   "metadata": {
    "papermill": {
     "duration": 0.005252,
     "end_time": "2023-08-03T17:04:52.699480",
     "exception": false,
     "start_time": "2023-08-03T17:04:52.694228",
     "status": "completed"
    },
    "tags": []
   },
   "source": [
    "# EDA"
   ]
  },
  {
   "cell_type": "code",
   "execution_count": 3,
   "id": "f5e65d8d",
   "metadata": {
    "execution": {
     "iopub.execute_input": "2023-08-03T17:04:52.712632Z",
     "iopub.status.busy": "2023-08-03T17:04:52.711867Z",
     "iopub.status.idle": "2023-08-03T17:04:52.745575Z",
     "shell.execute_reply": "2023-08-03T17:04:52.744414Z"
    },
    "papermill": {
     "duration": 0.04321,
     "end_time": "2023-08-03T17:04:52.748065",
     "exception": false,
     "start_time": "2023-08-03T17:04:52.704855",
     "status": "completed"
    },
    "tags": []
   },
   "outputs": [
    {
     "data": {
      "text/html": [
       "<div>\n",
       "<style scoped>\n",
       "    .dataframe tbody tr th:only-of-type {\n",
       "        vertical-align: middle;\n",
       "    }\n",
       "\n",
       "    .dataframe tbody tr th {\n",
       "        vertical-align: top;\n",
       "    }\n",
       "\n",
       "    .dataframe thead th {\n",
       "        text-align: right;\n",
       "    }\n",
       "</style>\n",
       "<table border=\"1\" class=\"dataframe\">\n",
       "  <thead>\n",
       "    <tr style=\"text-align: right;\">\n",
       "      <th></th>\n",
       "      <th>Id</th>\n",
       "      <th>SepalLengthCm</th>\n",
       "      <th>SepalWidthCm</th>\n",
       "      <th>PetalLengthCm</th>\n",
       "      <th>PetalWidthCm</th>\n",
       "      <th>Species</th>\n",
       "    </tr>\n",
       "  </thead>\n",
       "  <tbody>\n",
       "    <tr>\n",
       "      <th>0</th>\n",
       "      <td>1</td>\n",
       "      <td>5.1</td>\n",
       "      <td>3.5</td>\n",
       "      <td>1.4</td>\n",
       "      <td>0.2</td>\n",
       "      <td>Iris-setosa</td>\n",
       "    </tr>\n",
       "    <tr>\n",
       "      <th>1</th>\n",
       "      <td>2</td>\n",
       "      <td>4.9</td>\n",
       "      <td>3.0</td>\n",
       "      <td>1.4</td>\n",
       "      <td>0.2</td>\n",
       "      <td>Iris-setosa</td>\n",
       "    </tr>\n",
       "    <tr>\n",
       "      <th>2</th>\n",
       "      <td>3</td>\n",
       "      <td>4.7</td>\n",
       "      <td>3.2</td>\n",
       "      <td>1.3</td>\n",
       "      <td>0.2</td>\n",
       "      <td>Iris-setosa</td>\n",
       "    </tr>\n",
       "    <tr>\n",
       "      <th>3</th>\n",
       "      <td>4</td>\n",
       "      <td>4.6</td>\n",
       "      <td>3.1</td>\n",
       "      <td>1.5</td>\n",
       "      <td>0.2</td>\n",
       "      <td>Iris-setosa</td>\n",
       "    </tr>\n",
       "    <tr>\n",
       "      <th>4</th>\n",
       "      <td>5</td>\n",
       "      <td>5.0</td>\n",
       "      <td>3.6</td>\n",
       "      <td>1.4</td>\n",
       "      <td>0.2</td>\n",
       "      <td>Iris-setosa</td>\n",
       "    </tr>\n",
       "  </tbody>\n",
       "</table>\n",
       "</div>"
      ],
      "text/plain": [
       "   Id  SepalLengthCm  SepalWidthCm  PetalLengthCm  PetalWidthCm      Species\n",
       "0   1            5.1           3.5            1.4           0.2  Iris-setosa\n",
       "1   2            4.9           3.0            1.4           0.2  Iris-setosa\n",
       "2   3            4.7           3.2            1.3           0.2  Iris-setosa\n",
       "3   4            4.6           3.1            1.5           0.2  Iris-setosa\n",
       "4   5            5.0           3.6            1.4           0.2  Iris-setosa"
      ]
     },
     "execution_count": 3,
     "metadata": {},
     "output_type": "execute_result"
    }
   ],
   "source": [
    "df.head()"
   ]
  },
  {
   "cell_type": "code",
   "execution_count": 4,
   "id": "7b846d53",
   "metadata": {
    "execution": {
     "iopub.execute_input": "2023-08-03T17:04:52.762090Z",
     "iopub.status.busy": "2023-08-03T17:04:52.761392Z",
     "iopub.status.idle": "2023-08-03T17:04:52.788511Z",
     "shell.execute_reply": "2023-08-03T17:04:52.787336Z"
    },
    "papermill": {
     "duration": 0.037127,
     "end_time": "2023-08-03T17:04:52.791063",
     "exception": false,
     "start_time": "2023-08-03T17:04:52.753936",
     "status": "completed"
    },
    "tags": []
   },
   "outputs": [
    {
     "name": "stdout",
     "output_type": "stream",
     "text": [
      "(150, 5)\n",
      "<class 'pandas.core.frame.DataFrame'>\n",
      "RangeIndex: 150 entries, 0 to 149\n",
      "Data columns (total 5 columns):\n",
      " #   Column         Non-Null Count  Dtype  \n",
      "---  ------         --------------  -----  \n",
      " 0   SepalLengthCm  150 non-null    float64\n",
      " 1   SepalWidthCm   150 non-null    float64\n",
      " 2   PetalLengthCm  150 non-null    float64\n",
      " 3   PetalWidthCm   150 non-null    float64\n",
      " 4   Species        150 non-null    object \n",
      "dtypes: float64(4), object(1)\n",
      "memory usage: 6.0+ KB\n"
     ]
    }
   ],
   "source": [
    "df.drop(columns = 'Id',inplace = True)\n",
    "print(df.shape)\n",
    "df.info()"
   ]
  },
  {
   "cell_type": "code",
   "execution_count": 5,
   "id": "22f42f79",
   "metadata": {
    "execution": {
     "iopub.execute_input": "2023-08-03T17:04:52.805352Z",
     "iopub.status.busy": "2023-08-03T17:04:52.804654Z",
     "iopub.status.idle": "2023-08-03T17:04:52.813556Z",
     "shell.execute_reply": "2023-08-03T17:04:52.812244Z"
    },
    "papermill": {
     "duration": 0.01876,
     "end_time": "2023-08-03T17:04:52.816004",
     "exception": false,
     "start_time": "2023-08-03T17:04:52.797244",
     "status": "completed"
    },
    "tags": []
   },
   "outputs": [
    {
     "data": {
      "text/plain": [
       "Iris-setosa        50\n",
       "Iris-versicolor    50\n",
       "Iris-virginica     50\n",
       "Name: Species, dtype: int64"
      ]
     },
     "execution_count": 5,
     "metadata": {},
     "output_type": "execute_result"
    }
   ],
   "source": [
    "df.Species.value_counts()"
   ]
  },
  {
   "cell_type": "code",
   "execution_count": 6,
   "id": "ed7fea44",
   "metadata": {
    "execution": {
     "iopub.execute_input": "2023-08-03T17:04:52.830462Z",
     "iopub.status.busy": "2023-08-03T17:04:52.830027Z",
     "iopub.status.idle": "2023-08-03T17:04:53.159033Z",
     "shell.execute_reply": "2023-08-03T17:04:53.157788Z"
    },
    "papermill": {
     "duration": 0.339799,
     "end_time": "2023-08-03T17:04:53.162056",
     "exception": false,
     "start_time": "2023-08-03T17:04:52.822257",
     "status": "completed"
    },
    "tags": []
   },
   "outputs": [
    {
     "data": {
      "text/plain": [
       "<matplotlib.legend.Legend at 0x7d98245bcc40>"
      ]
     },
     "execution_count": 6,
     "metadata": {},
     "output_type": "execute_result"
    },
    {
     "data": {
      "image/png": "[encoded data removed]",
      "text/plain": [
       "<Figure size 640x480 with 1 Axes>"
      ]
     },
     "metadata": {},
     "output_type": "display_data"
    }
   ],
   "source": [
    "plt.scatter(df[\"SepalLengthCm\"],df['SepalWidthCm'],c=\"g\")\n",
    "plt.scatter(df[\"PetalLengthCm\"],df['PetalWidthCm'],c=\"r\")\n",
    "plt.xlabel(\"length\")\n",
    "plt.ylabel(\"width\")\n",
    "plt.legend()"
   ]
  },
  {
   "cell_type": "markdown",
   "id": "3568a386",
   "metadata": {
    "papermill": {
     "duration": 0.009005,
     "end_time": "2023-08-03T17:04:53.180664",
     "exception": false,
     "start_time": "2023-08-03T17:04:53.171659",
     "status": "completed"
    },
    "tags": []
   },
   "source": [
    " # Feature Engineering"
   ]
  },
  {
   "cell_type": "code",
   "execution_count": null,
   "id": "adfbb84e",
   "metadata": {
    "papermill": {
     "duration": 0.006997,
     "end_time": "2023-08-03T17:04:53.194536",
     "exception": false,
     "start_time": "2023-08-03T17:04:53.187539",
     "status": "completed"
    },
    "tags": []
   },
   "outputs": [],
   "source": []
  },
  {
   "cell_type": "code",
   "execution_count": 7,
   "id": "7dddab89",
   "metadata": {
    "execution": {
     "iopub.execute_input": "2023-08-03T17:04:53.211277Z",
     "iopub.status.busy": "2023-08-03T17:04:53.210136Z",
     "iopub.status.idle": "2023-08-03T17:04:53.401219Z",
     "shell.execute_reply": "2023-08-03T17:04:53.400066Z"
    },
    "papermill": {
     "duration": 0.202105,
     "end_time": "2023-08-03T17:04:53.403681",
     "exception": false,
     "start_time": "2023-08-03T17:04:53.201576",
     "status": "completed"
    },
    "tags": []
   },
   "outputs": [
    {
     "data": {
      "text/plain": [
       "0    50\n",
       "1    50\n",
       "2    50\n",
       "Name: Species, dtype: int64"
      ]
     },
     "execution_count": 7,
     "metadata": {},
     "output_type": "execute_result"
    }
   ],
   "source": [
    "from sklearn.preprocessing import LabelEncoder\n",
    "encode = LabelEncoder()\n",
    "df.Species = encode.fit_transform(df.Species)\n",
    "df.Species.value_counts()"
   ]
  },
  {
   "cell_type": "code",
   "execution_count": 8,
   "id": "1e29d832",
   "metadata": {
    "execution": {
     "iopub.execute_input": "2023-08-03T17:04:53.421065Z",
     "iopub.status.busy": "2023-08-03T17:04:53.420381Z",
     "iopub.status.idle": "2023-08-03T17:04:53.439282Z",
     "shell.execute_reply": "2023-08-03T17:04:53.438123Z"
    },
    "papermill": {
     "duration": 0.030529,
     "end_time": "2023-08-03T17:04:53.441791",
     "exception": false,
     "start_time": "2023-08-03T17:04:53.411262",
     "status": "completed"
    },
    "tags": []
   },
   "outputs": [
    {
     "data": {
      "text/html": [
       "<div>\n",
       "<style scoped>\n",
       "    .dataframe tbody tr th:only-of-type {\n",
       "        vertical-align: middle;\n",
       "    }\n",
       "\n",
       "    .dataframe tbody tr th {\n",
       "        vertical-align: top;\n",
       "    }\n",
       "\n",
       "    .dataframe thead th {\n",
       "        text-align: right;\n",
       "    }\n",
       "</style>\n",
       "<table border=\"1\" class=\"dataframe\">\n",
       "  <thead>\n",
       "    <tr style=\"text-align: right;\">\n",
       "      <th></th>\n",
       "      <th>SepalLengthCm</th>\n",
       "      <th>SepalWidthCm</th>\n",
       "      <th>PetalLengthCm</th>\n",
       "      <th>PetalWidthCm</th>\n",
       "      <th>Species</th>\n",
       "    </tr>\n",
       "  </thead>\n",
       "  <tbody>\n",
       "    <tr>\n",
       "      <th>110</th>\n",
       "      <td>6.5</td>\n",
       "      <td>3.2</td>\n",
       "      <td>5.1</td>\n",
       "      <td>2.0</td>\n",
       "      <td>2</td>\n",
       "    </tr>\n",
       "    <tr>\n",
       "      <th>132</th>\n",
       "      <td>6.4</td>\n",
       "      <td>2.8</td>\n",
       "      <td>5.6</td>\n",
       "      <td>2.2</td>\n",
       "      <td>2</td>\n",
       "    </tr>\n",
       "    <tr>\n",
       "      <th>40</th>\n",
       "      <td>5.0</td>\n",
       "      <td>3.5</td>\n",
       "      <td>1.3</td>\n",
       "      <td>0.3</td>\n",
       "      <td>0</td>\n",
       "    </tr>\n",
       "    <tr>\n",
       "      <th>135</th>\n",
       "      <td>7.7</td>\n",
       "      <td>3.0</td>\n",
       "      <td>6.1</td>\n",
       "      <td>2.3</td>\n",
       "      <td>2</td>\n",
       "    </tr>\n",
       "    <tr>\n",
       "      <th>133</th>\n",
       "      <td>6.3</td>\n",
       "      <td>2.8</td>\n",
       "      <td>5.1</td>\n",
       "      <td>1.5</td>\n",
       "      <td>2</td>\n",
       "    </tr>\n",
       "  </tbody>\n",
       "</table>\n",
       "</div>"
      ],
      "text/plain": [
       "     SepalLengthCm  SepalWidthCm  PetalLengthCm  PetalWidthCm  Species\n",
       "110            6.5           3.2            5.1           2.0        2\n",
       "132            6.4           2.8            5.6           2.2        2\n",
       "40             5.0           3.5            1.3           0.3        0\n",
       "135            7.7           3.0            6.1           2.3        2\n",
       "133            6.3           2.8            5.1           1.5        2"
      ]
     },
     "execution_count": 8,
     "metadata": {},
     "output_type": "execute_result"
    }
   ],
   "source": [
    "df.sample(5)"
   ]
  },
  {
   "cell_type": "code",
   "execution_count": 9,
   "id": "b8569908",
   "metadata": {
    "execution": {
     "iopub.execute_input": "2023-08-03T17:04:53.458373Z",
     "iopub.status.busy": "2023-08-03T17:04:53.457484Z",
     "iopub.status.idle": "2023-08-03T17:04:53.464182Z",
     "shell.execute_reply": "2023-08-03T17:04:53.463412Z"
    },
    "papermill": {
     "duration": 0.017233,
     "end_time": "2023-08-03T17:04:53.466431",
     "exception": false,
     "start_time": "2023-08-03T17:04:53.449198",
     "status": "completed"
    },
    "tags": []
   },
   "outputs": [],
   "source": [
    "X = df.drop(columns = \"Species\")\n",
    "Y = df.Species"
   ]
  },
  {
   "cell_type": "code",
   "execution_count": 10,
   "id": "91391a13",
   "metadata": {
    "execution": {
     "iopub.execute_input": "2023-08-03T17:04:53.483064Z",
     "iopub.status.busy": "2023-08-03T17:04:53.482361Z",
     "iopub.status.idle": "2023-08-03T17:04:53.864507Z",
     "shell.execute_reply": "2023-08-03T17:04:53.863315Z"
    },
    "papermill": {
     "duration": 0.393258,
     "end_time": "2023-08-03T17:04:53.866934",
     "exception": false,
     "start_time": "2023-08-03T17:04:53.473676",
     "status": "completed"
    },
    "tags": []
   },
   "outputs": [
    {
     "name": "stdout",
     "output_type": "stream",
     "text": [
      "(135, 4) (135,)\n",
      "(15, 4) (15,)\n"
     ]
    },
    {
     "data": {
      "text/plain": [
       "1    45\n",
       "0    45\n",
       "2    45\n",
       "Name: Species, dtype: int64"
      ]
     },
     "execution_count": 10,
     "metadata": {},
     "output_type": "execute_result"
    }
   ],
   "source": [
    "from sklearn.preprocessing import StandardScaler\n",
    "from sklearn.model_selection import train_test_split\n",
    "from sklearn.tree import DecisionTreeClassifier\n",
    "from sklearn.metrics import confusion_matrix\n",
    "from sklearn.metrics import classification_report\n",
    "from sklearn.metrics import PrecisionRecallDisplay, RocCurveDisplay\n",
    "from sklearn.metrics import ConfusionMatrixDisplay\n",
    "\n",
    "X_train,X_test,y_train,y_test = train_test_split(X,Y,train_size = 0.9,stratify = df.Species)\n",
    "\n",
    "print(X_train.shape,y_train.shape)\n",
    "print(X_test.shape,y_test.shape)\n",
    "\n",
    "y_train.value_counts()\n"
   ]
  },
  {
   "cell_type": "code",
   "execution_count": 11,
   "id": "3525957d",
   "metadata": {
    "execution": {
     "iopub.execute_input": "2023-08-03T17:04:53.884698Z",
     "iopub.status.busy": "2023-08-03T17:04:53.883946Z",
     "iopub.status.idle": "2023-08-03T17:04:53.897164Z",
     "shell.execute_reply": "2023-08-03T17:04:53.895870Z"
    },
    "papermill": {
     "duration": 0.024996,
     "end_time": "2023-08-03T17:04:53.899702",
     "exception": false,
     "start_time": "2023-08-03T17:04:53.874706",
     "status": "completed"
    },
    "tags": []
   },
   "outputs": [
    {
     "data": {
      "text/plain": [
       "array([[-0.79026501, -0.90510403,  0.08674034,  0.27403242],\n",
       "       [ 2.26488322, -1.14328931,  1.80879118,  1.46739943],\n",
       "       [ 1.04282393, -1.38147458,  1.17737254,  0.80441776],\n",
       "       [ 0.67620614, -0.66691876,  1.06256915,  1.3348031 ],\n",
       "       [-0.42364722, -1.85784512,  0.14414203,  0.14143609],\n",
       "       [ 1.04282393,  0.04763705,  0.5459539 ,  0.40662876],\n",
       "       [-1.03467687,  0.76219287, -1.23349864, -1.05193092],\n",
       "       [-1.64570651, -1.85784512, -1.40570373, -1.18452725],\n",
       "       [ 1.16502986,  0.28582233,  1.23477424,  1.46739943],\n",
       "       [-0.91247094,  0.76219287, -1.29090034, -1.31712359],\n",
       "       [-1.03467687, -2.57240094, -0.14286644, -0.25635291],\n",
       "       [-1.1568828 ,  0.04763705, -1.29090034, -1.44971992],\n",
       "       [ 0.55400021,  0.5240076 ,  1.29217593,  1.7325921 ],\n",
       "       [ 0.18738242, -2.0960304 ,  0.14414203, -0.25635291],\n",
       "       [-0.54585315,  0.76219287, -1.29090034, -1.05193092]])"
      ]
     },
     "execution_count": 11,
     "metadata": {},
     "output_type": "execute_result"
    }
   ],
   "source": [
    "scale = StandardScaler()\n",
    "scale.fit_transform(X_train)\n",
    "scale.transform(X_test)"
   ]
  },
  {
   "cell_type": "code",
   "execution_count": 12,
   "id": "90d75cda",
   "metadata": {
    "execution": {
     "iopub.execute_input": "2023-08-03T17:04:53.919019Z",
     "iopub.status.busy": "2023-08-03T17:04:53.918163Z",
     "iopub.status.idle": "2023-08-03T17:04:53.930847Z",
     "shell.execute_reply": "2023-08-03T17:04:53.929752Z"
    },
    "papermill": {
     "duration": 0.025462,
     "end_time": "2023-08-03T17:04:53.933400",
     "exception": false,
     "start_time": "2023-08-03T17:04:53.907938",
     "status": "completed"
    },
    "tags": []
   },
   "outputs": [],
   "source": [
    "model = DecisionTreeClassifier()\n",
    "model.fit(X_train,y_train)\n",
    "y_pred = model.predict(X_test)\n",
    "y_pred = pd.Series(y_pred)"
   ]
  },
  {
   "cell_type": "code",
   "execution_count": 13,
   "id": "1ab61d7e",
   "metadata": {
    "execution": {
     "iopub.execute_input": "2023-08-03T17:04:53.954469Z",
     "iopub.status.busy": "2023-08-03T17:04:53.953682Z",
     "iopub.status.idle": "2023-08-03T17:04:53.964563Z",
     "shell.execute_reply": "2023-08-03T17:04:53.963297Z"
    },
    "papermill": {
     "duration": 0.022738,
     "end_time": "2023-08-03T17:04:53.966889",
     "exception": false,
     "start_time": "2023-08-03T17:04:53.944151",
     "status": "completed"
    },
    "tags": []
   },
   "outputs": [
    {
     "data": {
      "text/plain": [
       "1.0"
      ]
     },
     "execution_count": 13,
     "metadata": {},
     "output_type": "execute_result"
    }
   ],
   "source": [
    "model.score(X_test,y_test)"
   ]
  },
  {
   "cell_type": "code",
   "execution_count": 14,
   "id": "66f3d271",
   "metadata": {
    "execution": {
     "iopub.execute_input": "2023-08-03T17:04:53.986036Z",
     "iopub.status.busy": "2023-08-03T17:04:53.985371Z",
     "iopub.status.idle": "2023-08-03T17:04:54.191676Z",
     "shell.execute_reply": "2023-08-03T17:04:54.190155Z"
    },
    "papermill": {
     "duration": 0.220742,
     "end_time": "2023-08-03T17:04:54.195969",
     "exception": false,
     "start_time": "2023-08-03T17:04:53.975227",
     "status": "completed"
    },
    "tags": []
   },
   "outputs": [
    {
     "data": {
      "image/png": "[encoded data removed]",
      "text/plain": [
       "<Figure size 640x480 with 1 Axes>"
      ]
     },
     "metadata": {},
     "output_type": "display_data"
    }
   ],
   "source": [
    "ConfusionMatrixDisplay.from_estimator(model, X_test, y_test, colorbar=False, cmap='Purples_r')\n",
    "plt.grid(False)"
   ]
  },
  {
   "cell_type": "code",
   "execution_count": 15,
   "id": "14351004",
   "metadata": {
    "execution": {
     "iopub.execute_input": "2023-08-03T17:04:54.230583Z",
     "iopub.status.busy": "2023-08-03T17:04:54.229533Z",
     "iopub.status.idle": "2023-08-03T17:04:54.242481Z",
     "shell.execute_reply": "2023-08-03T17:04:54.241451Z"
    },
    "papermill": {
     "duration": 0.030788,
     "end_time": "2023-08-03T17:04:54.244755",
     "exception": false,
     "start_time": "2023-08-03T17:04:54.213967",
     "status": "completed"
    },
    "tags": []
   },
   "outputs": [
    {
     "name": "stdout",
     "output_type": "stream",
     "text": [
      "              precision    recall  f1-score   support\n",
      "\n",
      "           0       1.00      1.00      1.00         5\n",
      "           1       1.00      1.00      1.00         5\n",
      "           2       1.00      1.00      1.00         5\n",
      "\n",
      "    accuracy                           1.00        15\n",
      "   macro avg       1.00      1.00      1.00        15\n",
      "weighted avg       1.00      1.00      1.00        15\n",
      "\n"
     ]
    }
   ],
   "source": [
    "print(classification_report(y_test,y_pred))"
   ]
  }
 ],
 "metadata": {
  "kernelspec": {
   "display_name": "Python 3",
   "language": "python",
   "name": "python3"
  },
  "language_info": {
   "codemirror_mode": {
    "name": "ipython",
    "version": 3
   },
   "file_extension": ".py",
   "mimetype": "text/x-python",
   "name": "python",
   "nbconvert_exporter": "python",
   "pygments_lexer": "ipython3",
   "version": "3.10.10"
  },
  "papermill": {
   "default_parameters": {},
   "duration": 16.986613,
   "end_time": "2023-08-03T17:04:55.274909",
   "environment_variables": {},
   "exception": null,
   "input_path": "__notebook__.ipynb",
   "output_path": "__notebook__.ipynb",
   "parameters": {},
   "start_time": "2023-08-03T17:04:38.288296",
   "version": "2.4.0"
  }
 },
 "nbformat": 4,
 "nbformat_minor": 5
}
